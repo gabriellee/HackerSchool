{
 "metadata": {
  "name": "",
  "signature": "sha256:2ae9dbca6fc4ba53d7bc1b5e0a64212581cb02f6e75450a0d6325727efc3ebf3"
 },
 "nbformat": 3,
 "nbformat_minor": 0,
 "worksheets": [
  {
   "cells": [
    {
     "cell_type": "code",
     "collapsed": false,
     "input": [
      "from learningstyles_distribution2 import StyleDist\n",
      "import thinkplot\n",
      "import thinkbayes2\n",
      "%matplotlib inline"
     ],
     "language": "python",
     "metadata": {},
     "outputs": [],
     "prompt_number": 1
    },
    {
     "cell_type": "code",
     "collapsed": false,
     "input": [
      "def main():\n",
      "    '''initializes an instance of a learning styles probability distribution\n",
      "    updates the probability distribution based on data\n",
      "    checks the strength of the evidence that the distribution in hacker school is substantiallly different\n",
      "    \n",
      "    sensing data is a tuple in which the first value is the number of people who are sensing and the second value is the number of people who are intuitive in a set of hacker school students\n",
      "    sensing_hypo is the initial guess representing the integer probability of a hacker school student being sensing\n",
      "    sensing_ratio is the integer probability of any person being sensing'''\n",
      "\n",
      "    sensing_data = (50, 50)\n",
      "    sensing_hypo = 50\n",
      "    sensing_prob = 50\n",
      "\n",
      "    #set a uniform prior\n",
      "    sensing_dist = StyleDist(range(0,101))\n",
      "    #update with new data\n",
      "    sensing_dist.Update(sensing_data)\n",
      "    #generate graph of probability distribution\n",
      "    thinkplot.Pmf(sensing_dist)\n",
      "    #thinkplot.Pmf(StyleDist())\n",
      "    \n",
      "    #Is this substantially different from the overall population?\n",
      "    #To find out, we will compute Bayes' Factor!\n",
      "    #p(D|H) / p(D|~H)\n",
      "    \n",
      "    #find the likelihood that hacker school students are as likely to be sensing as a member of the general population\n",
      "    suite = StyleDist()\n",
      "    like_same = suite.Likelihood(sensing_data, sensing_prob)\n",
      "    print('p(D|50%)', like_same)\n",
      "\n",
      "    #set p(D|~H)\n",
      "    #I define ~H as the set of all hypotheses (sensing probabilities) excluding sensing_prob (the probability of being sensing in the general population)\n",
      "    b_uniform = StyleDist(range(0,101))\n",
      "    b_uniform.Remove(sensing_prob)\n",
      "    b_uniform.Normalize()\n",
      "    \n",
      "    like_diff = b_uniform.SuiteLikelihood(sensing_data)\n",
      "    bayes_factor = like_same/like_diff\n",
      "    print('Bayes Factor is ', bayes_factor)\n",
      "\n",
      "    # %matplotlib inline\n",
      "    #thinkplot.Pmf(sensing_dist)\n",
      "    #return sensing_dist\n",
      "\n",
      "#     check = StyleDist(range(101))\n",
      "#     check.Update(sensing_data)\n",
      "#     thinkplot.Pmf(check)\n",
      "#     print check.Likelihood()\n",
      "main()\n"
     ],
     "language": "python",
     "metadata": {},
     "outputs": [
      {
       "output_type": "stream",
       "stream": "stdout",
       "text": [
        "('p(D|50%)', 7.888609052210118e-31)\n",
        "('Bayes Factor is ', 8.7411733283699)\n"
       ]
      },
      {
       "metadata": {},
       "output_type": "display_data",
       "png": "[encoded data removed]",
       "text": [
        "<matplotlib.figure.Figure at 0xa49d8ac>"
       ]
      }
     ],
     "prompt_number": 2
    },
    {
     "cell_type": "code",
     "collapsed": false,
     "input": [],
     "language": "python",
     "metadata": {},
     "outputs": []
    }
   ],
   "metadata": {}
  }
 ]
}